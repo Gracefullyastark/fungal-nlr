{
 "cells": [
  {
   "cell_type": "code",
   "execution_count": null,
   "metadata": {},
   "outputs": [],
   "source": [
    "def get_p2g_output(nlr_protein, f):\n",
    "    nlr_path = join('nlr_protein', genus, 'nlr_'+nlr_protein.id+'.fasta')\n",
    "    return subprocess.run(['exonerate', '--model', 'protein2genome', '--bestn', '1', '--showvulgar', 'F', '--ryo', '''\">%ti (%tab - %tae)\\n%tas\\n\"''', nlr_path, join(genomedir, f)],  stdout=subprocess.PIPE, stderr=subprocess.PIPE)\n",
    "\n",
    "# f = [f for f in listdir(genomedir) if f=='GCA_012978505.1_ASM1297850v1.fna'][0]\n",
    "f = [f for f in listdir(genomedir) if isfile(join(genomedir, f)) and f != '.DS_Store' ][1]\n",
    "proc = get_p2g_output(nlr_protein, f)\n",
    "\n",
    "with open(join('exonerate_out', genus, 'exn_%s_%s.out' % (nlr_protein.id, f.split('_')[-1][:-4])), 'a') as exnout:\n",
    "    exnout.write(proc.stdout.decode())\n",
    "print(proc.stdout.decode())\n",
    "\n",
    "\n"
   ]
  },
  {
   "cell_type": "code",
   "execution_count": 12,
   "metadata": {},
   "outputs": [],
   "source": [
    "import os\n",
    "\n",
    "from os import path\n",
    "from os.path import dirname\n",
    "\n",
    "def make_path(*argv):\n",
    "    mypath = path.join(*argv)\n",
    "    if not path.exists(dirname(mypath)):\n",
    "        os.mkdir(dirname(mypath))\n",
    "    return mypath"
   ]
  },
  {
   "cell_type": "code",
   "execution_count": 13,
   "metadata": {},
   "outputs": [
    {
     "data": {
      "text/plain": [
       "'entropy/neurospora/test.fa'"
      ]
     },
     "execution_count": 13,
     "metadata": {},
     "output_type": "execute_result"
    }
   ],
   "source": [
    "make_path('entropy', 'neurospora', 'test.fa')"
   ]
  },
  {
   "cell_type": "code",
   "execution_count": null,
   "metadata": {},
   "outputs": [],
   "source": [
    "outsplit = proc.stdout.decode().split('''\"''')\n",
    "qresult = next(SearchIO.parse(StringIO(outsplit[-3]), 'exonerate-text'))"
   ]
  },
  {
   "cell_type": "code",
   "execution_count": null,
   "metadata": {},
   "outputs": [],
   "source": [
    "sum([frag.hit for frag in qresult[0][0]], Seq('')).seq.index('*')"
   ]
  }
 ],
 "metadata": {
  "kernelspec": {
   "display_name": "Python 3",
   "language": "python",
   "name": "python3"
  },
  "language_info": {
   "codemirror_mode": {
    "name": "ipython",
    "version": 3
   },
   "file_extension": ".py",
   "mimetype": "text/x-python",
   "name": "python",
   "nbconvert_exporter": "python",
   "pygments_lexer": "ipython3",
   "version": "3.8.3"
  }
 },
 "nbformat": 4,
 "nbformat_minor": 4
}
