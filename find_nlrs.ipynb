{
 "cells": [
  {
   "cell_type": "code",
   "execution_count": 1,
   "metadata": {},
   "outputs": [],
   "source": [
    "from Bio import SearchIO\n",
    "from Bio import SeqIO\n",
    "from Bio import Phylo\n",
    "from Bio.Seq import Seq\n",
    "from Bio import AlignIO\n",
    "\n",
    "from io import StringIO\n",
    "import subprocess\n",
    "\n",
    "from os import listdir\n",
    "from os.path import isfile, join, dirname, isdir, exists\n",
    "from os import path\n",
    "import os\n",
    "\n",
    "import matplotlib.pyplot as plt\n",
    "import numpy as np"
   ]
  },
  {
   "cell_type": "code",
   "execution_count": 2,
   "metadata": {},
   "outputs": [],
   "source": [
    "#These are the queries for the hmmsearch command. Change the genus or domain to your liking\n",
    "\n",
    "genus = 'magnaporthe' #or try 'neurospora'\n",
    "domain = 'NACHT' #try 'NACHT', 'NB-ARC', or 'HET'"
   ]
  },
  {
   "cell_type": "code",
   "execution_count": 93,
   "metadata": {},
   "outputs": [],
   "source": [
    "#helper function for preparing directories. do not change this.\n",
    "\n",
    "def make_dir(*argv):\n",
    "    mydir = path.join(*argv)    \n",
    "    if not path.exists(mydir):        \n",
    "        if len(argv) > 1:\n",
    "            make_dir(*argv[:-1])            \n",
    "        os.mkdir(mydir)\n",
    "    return mydir\n",
    "\n",
    "\n",
    "def make_path(*argv):\n",
    "    mypath = path.join(*argv)\n",
    "    if not path.exists(dirname(mypath)):\n",
    "        make_dir(*argv[:-1])\n",
    "    return mypath"
   ]
  },
  {
   "cell_type": "code",
   "execution_count": 4,
   "metadata": {},
   "outputs": [],
   "source": [
    "#preparing path names for hmmsearch command...\n",
    "proteome_path = make_path('proteomes', genus, os.listdir(make_dir('proteomes', genus))[0])\n",
    "genomes_dir = make_dir('genomes', genus)\n",
    "assembly_name = proteome_path.split('_')[-2]\n",
    "domain_path = make_path('pfam_domains', domain+'.hmm')\n",
    "hmmsearch_align_path = make_path('hmmsearch_align', genus, domain+'-'+assembly_name+'.aln')\n",
    "hmmsearch_out_path = make_path('hmmsearch_out', genus, domain+'-'+assembly_name+'.out')\n",
    "hmmmsearch_domout_path = make_path('hmmsearch_out', genus, domain+'-'+assembly_name+'.domout')"
   ]
  },
  {
   "cell_type": "code",
   "execution_count": 5,
   "metadata": {},
   "outputs": [],
   "source": [
    "!hmmsearch --domE 0.01  -A $hmmsearch_align_path --domtblout $hmmmsearch_domout_path $domain_path $proteome_path > $hmmsearch_out_path"
   ]
  },
  {
   "cell_type": "code",
   "execution_count": 9,
   "metadata": {
    "scrolled": true
   },
   "outputs": [
    {
     "name": "stdout",
     "output_type": "stream",
     "text": [
      "E-value: 2.3e-12 for XP_011393957.1 hypothetical protein NCU08537 [Neurospora crassa OR74A]\n",
      "E-value: 2.3e-12 for XP_011393958.1 uncharacterized protein NCU08537 [Neurospora crassa OR74A]\n",
      "E-value: 3.6e-10 for XP_959588.2 hypothetical protein NCU02194 [Neurospora crassa OR74A]\n",
      "E-value: 1.7e-09 for XP_011393650.1 uncharacterized protein NCU09760 [Neurospora crassa OR74A]\n",
      "E-value: 1.7e-09 for XP_011393649.1 hypothetical protein NCU09760 [Neurospora crassa OR74A]\n",
      "E-value: 3.6e-09 for XP_962827.3 hypothetical protein NCU08565 [Neurospora crassa OR74A]\n",
      "E-value: 2.5e-05 for XP_963877.1 peroxisome biosynthesis protein [Neurospora crassa OR74A]\n",
      "E-value: 1.2e-08 for XP_011393432.1 NACHT domain-containing protein, variant [Neurospora crassa OR74A]\n",
      "E-value: 9e-08 for XP_957922.2 hypothetical protein NCU04881 [Neurospora crassa OR74A]\n",
      "E-value: 1.3e-08 for XP_011393433.1 NACHT domain-containing protein [Neurospora crassa OR74A]\n",
      "E-value: 2.2e-07 for XP_011393626.1 hypothetical protein NCU08705 [Neurospora crassa OR74A]\n",
      "E-value: 9.9e-07 for XP_962530.3 hypothetical protein NCU08317 [Neurospora crassa OR74A]\n",
      "E-value: 3e-06 for XP_961929.3 pfs domain-containing protein [Neurospora crassa OR74A]\n",
      "E-value: 1.6e-05 for XP_964271.2 cell division control protein Cdc6 [Neurospora crassa OR74A]\n",
      "E-value: 1.7e-05 for XP_011392839.1 uncharacterized protein NCU00874 [Neurospora crassa OR74A]\n"
     ]
    }
   ],
   "source": [
    "#Parse hmmsearch output and filter hits by e-value. Find these hits the reference proteome and display annotations of the numTop proteins along with their E-values\n",
    "\n",
    "numTop = 15 ## change this to adjust the number of protein descriptions displayed\n",
    "ethresh = 0.01 ### adjust this for e-value threshold\n",
    "\n",
    "qresult = next(SearchIO.parse(hmmmsearch_domout_path, 'hmmsearch3-domtab'))\n",
    "filtered_hits = list(filter(lambda hsp: hsp.evalue < ethresh, qresult.hsps))\n",
    "hit_ids = [hsp.hit_id for hsp in filtered_hits]\n",
    "hit_sequences = sorted([record for record in SeqIO.parse(proteome_path, \"fasta\") if record.id in hit_ids], key=lambda a: hit_ids.index(a.id))\n",
    "print('\\n'.join([f'E-value: {filtered_hits[ii].evalue} for ' + hit_sequences[ii].description for ii in range(numTop)]))"
   ]
  },
  {
   "cell_type": "code",
   "execution_count": 11,
   "metadata": {},
   "outputs": [
    {
     "data": {
      "text/plain": [
       "[SeqRecord(seq=Seq('MADPATILGVFTGTLQIISFTRELISLTQEIAHTGSSDHDLKEKSEDLLDVSQN...REV'), id='XP_011393957.1', name='XP_011393957.1', description='XP_011393957.1 hypothetical protein NCU08537 [Neurospora crassa OR74A]', dbxrefs=[]),\n",
       " SeqRecord(seq=Seq('MADPATILGVFTGTLQIISFTRELISLTQEIAHTGSSDHDLKEKSEDLLDVSQN...REV'), id='XP_011393958.1', name='XP_011393958.1', description='XP_011393958.1 uncharacterized protein NCU08537 [Neurospora crassa OR74A]', dbxrefs=[]),\n",
       " SeqRecord(seq=Seq('MDPLSFTASLVAVVGLAGEVAKTCKSYIDGIKNHPREIRVIFIELTSLTSVLEG...VGS'), id='XP_959588.2', name='XP_959588.2', description='XP_959588.2 hypothetical protein NCU02194 [Neurospora crassa OR74A]', dbxrefs=[]),\n",
       " SeqRecord(seq=Seq('MPQAQRPDGFTRALAKFKQGLDPSLAQQFSISTLEDVRVLADKIQHEQGPQGKL...DLS'), id='XP_011393650.1', name='XP_011393650.1', description='XP_011393650.1 uncharacterized protein NCU09760 [Neurospora crassa OR74A]', dbxrefs=[]),\n",
       " SeqRecord(seq=Seq('MPQAQRPDGFTRALAKFKQGLDPSLAQQFSISTLEDVRVLADKIQHEQGPQGKL...DLS'), id='XP_011393649.1', name='XP_011393649.1', description='XP_011393649.1 hypothetical protein NCU09760 [Neurospora crassa OR74A]', dbxrefs=[]),\n",
       " SeqRecord(seq=Seq('MDPFTALGLASAVLQFVDFGSTVYGEYKRLRNGSLYGNNARALPKSLEAALNDL...IRW'), id='XP_962827.3', name='XP_962827.3', description='XP_962827.3 hypothetical protein NCU08565 [Neurospora crassa OR74A]', dbxrefs=[]),\n",
       " SeqRecord(seq=Seq('MAPRKNAQSTAAEISLVHLQNCFVNLPPSLASLLSNVNTPAQNVIVELNYRVQS...SLM'), id='XP_963877.1', name='XP_963877.1', description='XP_963877.1 peroxisome biosynthesis protein [Neurospora crassa OR74A]', dbxrefs=[]),\n",
       " SeqRecord(seq=Seq('MPLAARSSLQARRTIREAFEGLEKVISPSEAKDFNNTTLQNVQDAALEIESILA...YFH'), id='XP_011393432.1', name='XP_011393432.1', description='XP_011393432.1 NACHT domain-containing protein, variant [Neurospora crassa OR74A]', dbxrefs=[]),\n",
       " SeqRecord(seq=Seq('MSFTNFHRRRDKGGPQAERKHHFGFRKSFHKFMGWTNSEPTEHSPCNSVAPSSL...PMR'), id='XP_957922.2', name='XP_957922.2', description='XP_957922.2 hypothetical protein NCU04881 [Neurospora crassa OR74A]', dbxrefs=[]),\n",
       " SeqRecord(seq=Seq('MLRELAALLWLTVSTTWMLPPPQVSIEKTKKTFGTTKVMPLAARSSLQARRTIR...YFH'), id='XP_011393433.1', name='XP_011393433.1', description='XP_011393433.1 NACHT domain-containing protein [Neurospora crassa OR74A]', dbxrefs=[]),\n",
       " SeqRecord(seq=Seq('MEPVGLAIGVIGLAGVFKSCVELFGYFSTYRSYGHDYSLLDAKLHVEKAFLLLW...AGS'), id='XP_011393626.1', name='XP_011393626.1', description='XP_011393626.1 hypothetical protein NCU08705 [Neurospora crassa OR74A]', dbxrefs=[]),\n",
       " SeqRecord(seq=Seq('MPPKSNDTHTTGMKRPRSRLQDEEITDENRAPPISTPGGAMASAISKSKRQRLS...REI'), id='XP_962530.3', name='XP_962530.3', description='XP_962530.3 hypothetical protein NCU08317 [Neurospora crassa OR74A]', dbxrefs=[]),\n",
       " SeqRecord(seq=Seq('MATEQTDNPRSHSDYTIGWVCALAHESAAATAMLDVEHSPLTQRPNDTNSYTLG...AII'), id='XP_961929.3', name='XP_961929.3', description='XP_961929.3 pfs domain-containing protein [Neurospora crassa OR74A]', dbxrefs=[]),\n",
       " SeqRecord(seq=Seq('MASPSAPTTLGKRRRSTRLTDEEITLGPLAVKRTRRSLRIHPEIHHEPDHIQAE...LDD'), id='XP_964271.2', name='XP_964271.2', description='XP_964271.2 cell division control protein Cdc6 [Neurospora crassa OR74A]', dbxrefs=[]),\n",
       " SeqRecord(seq=Seq('MYASIAQRIHTIYFLATPHRGADSAQTVKLLLSSAGYGAKGFVDDLLPGSGTLD...IIS'), id='XP_011392839.1', name='XP_011392839.1', description='XP_011392839.1 uncharacterized protein NCU00874 [Neurospora crassa OR74A]', dbxrefs=[]),\n",
       " SeqRecord(seq=Seq('MFWPKEWLPNEVGFRHVRLHSYGYNSDWTARKGRALSIHDFGQALLADIYGGPH...IIS'), id='XP_011392840.1', name='XP_011392840.1', description='XP_011392840.1 hypothetical protein NCU00874 [Neurospora crassa OR74A]', dbxrefs=[]),\n",
       " SeqRecord(seq=Seq('MRLTRSWSVTSEFAKLFPNSAELQALFSEYLTRVVRLCQQILAVARRPSYLLLA...SFI'), id='XP_965579.2', name='XP_965579.2', description='XP_965579.2 hypothetical protein NCU02897 [Neurospora crassa OR74A]', dbxrefs=[]),\n",
       " SeqRecord(seq=Seq('MVNSLLAWTEDELQYLKAVLRWKDSPSEEYKRLSDSGANDALSNLDPHNSTSSQ...KRG'), id='XP_961654.3', name='XP_961654.3', description='XP_961654.3 hypothetical protein NCU01042 [Neurospora crassa OR74A]', dbxrefs=[]),\n",
       " SeqRecord(seq=Seq('MADVQAHKPHRASKKSKEKGASKHTGEKNPKAFAFSNPGKLARQAARSHDIKEK...RRR'), id='XP_956329.1', name='XP_956329.1', description='XP_956329.1 ribosome biogenesis protein [Neurospora crassa OR74A]', dbxrefs=[]),\n",
       " SeqRecord(seq=Seq('MMDTIDSISSQPTAAATSTSTSTSSSSGVNPTPSPQSRIIDDKSPLCIPFILSK...MVI'), id='XP_011394317.1', name='XP_011394317.1', description='XP_011394317.1 hypothetical protein NCU08827 [Neurospora crassa OR74A]', dbxrefs=[]),\n",
       " SeqRecord(seq=Seq('MMDTIDSISSQPTAAATSTSTSTSSSSGVNPTPSPQSRIIDDKSPLCIPFILSK...MVI'), id='XP_011394318.1', name='XP_011394318.1', description='XP_011394318.1 uncharacterized protein NCU08827 [Neurospora crassa OR74A]', dbxrefs=[]),\n",
       " SeqRecord(seq=Seq('MSTRQSGDGGIDGNTVNGRVAGHNVMVGGISAVNGGYNFVLHGDNHFYPPSASN...DVE'), id='XP_956366.1', name='XP_956366.1', description='XP_956366.1 hypothetical protein NCU03477 [Neurospora crassa OR74A]', dbxrefs=[])]"
      ]
     },
     "execution_count": 11,
     "metadata": {},
     "output_type": "execute_result"
    }
   ],
   "source": [
    "hit_sequences"
   ]
  },
  {
   "cell_type": "code",
   "execution_count": 61,
   "metadata": {},
   "outputs": [],
   "source": [
    "##Exonerates a protein to all genomes for the species. don't change this.\n",
    "def exonerate(nlr_protein):    \n",
    "    nlr_path = make_path('nlr_protein', genus, 'nlr_'+nlr_protein.id+'.fasta')\n",
    "    p2gaa_path = make_path('exonerate_p2gaa', genus, 'p2gaa_%s.faa' % nlr_protein.id)\n",
    "    p2gnt_path = make_path('exonerate_p2gnt', genus, 'p2gnt_%s.fasta' % nlr_protein.id)\n",
    "    SeqIO.write(nlr_protein, nlr_path, \"fasta\")\n",
    "    \n",
    "    files = [f for f in listdir(genomes_dir) if isfile(join(genomes_dir, f)) and f != '.DS_Store' ]\n",
    "    numExonerated = 0\n",
    "\n",
    "    for ii, f in enumerate(files):\n",
    "        proc = subprocess.run(['exonerate', '--model', 'protein2genome', '--bestn', '1', '--showvulgar', 'F', '--ryo', '''\">%ti (%tab - %tae)\\n%tas\\n\"''', nlr_path, join(genomes_dir, f)],  stdout=subprocess.PIPE, stderr=subprocess.PIPE)\n",
    "\n",
    "        outsplit = proc.stdout.decode().split('''\"''')\n",
    "        if len(outsplit) > 3:\n",
    "#             print('exonerating', f, 'counter: ', ii)\n",
    "            numExonerated += 1\n",
    "\n",
    "            qresult = next(SearchIO.parse(StringIO(outsplit[-3]), 'exonerate-text'))\n",
    "            aa_record = sum([frag.hit for frag in qresult[0][0]], Seq(''))\n",
    "\n",
    "            if not ii:\n",
    "                writeMode = 'w'\n",
    "            else:\n",
    "                writeMode = 'a'\n",
    "            \n",
    "            aafile = open(p2gaa_path, writeMode)        \n",
    "            SeqIO.write(aa_record, aafile, 'fasta')\n",
    "            aafile.close()\n",
    "\n",
    "            ntfile = open(p2gnt_path, writeMode)        \n",
    "            ntseq = outsplit[-2]\n",
    "            ntfile.write(ntseq)\n",
    "            ntfile.close()\n",
    "            \n",
    "#             if not ii % 50:\n",
    "            print(ii+1, 'sequences exonerated')\n",
    "#         else:\n",
    "#             print('failed to exonerate', f, 'counter: ', ii)\n",
    "\n",
    "    return numExonerated, ii+1\n",
    "\n",
    "\n",
    "#get column of position weight matrix\n",
    "def get_distr(aa_col, pseudocounts = 0.0):\n",
    "    full_alphabet = 'ACDEFGHIKLMNPQRSTVWY-X*'\n",
    "    abundict = {aa:pseudocounts for aa in list('ACDEFGHIKLMNPQRSTVWY')}\n",
    "    for site in aa_col:\n",
    "        if site in abundict.keys():\n",
    "            abundict[site] += 1.0\n",
    "#         else:\n",
    "#             print('did not find', site, 'in alphabet')\n",
    "#             raise Exception()\n",
    "    abundict = {aa:count for aa,count in abundict.items() if count > 0.0}\n",
    "    weights = np.array(list(abundict.values()))\n",
    "    distr = weights/sum(weights)\n",
    "    return distr\n",
    "\n",
    "#compute entropy from a list of weights\n",
    "def get_entropy(distr):\n",
    "    return -np.sum(np.log(distr)*distr)\n",
    "\n",
    "#returns entropy sequence from multiple alignment\n",
    "def get_entropy_sequence(align):\n",
    "    entropies = []\n",
    "    for col in range(len(align[0,:])):\n",
    "        entropies.append(get_entropy(get_distr(align[:, col])))\n",
    "    return np.array(entropies)\n",
    "\n",
    "#plot entropy sequence\n",
    "def plot_entropy(entropies, protein_id):\n",
    "    plt.plot(entropies)\n",
    "    plt.xlabel('Amino acid position')\n",
    "    plt.ylabel('Bits')\n",
    "    plt.ylim(0, 2)\n",
    "    plt.title('Entropy plot for %s' % protein_id)\n",
    "    \n",
    "    \n",
    "# def save_plot(nlr_protein):    \n",
    "#     entropy_seq_path = make_path('entropy', genus, 'seq', 'entropy_clustalo_%s.npy' % nlr_protein.id)\n",
    "#     plot_entropy(np.load(entropy_seq_path), nlr_protein.id)\n",
    "#     entropy_plot_path = make_path('entropy', genus, 'plot', 'entropy_clustalo_%s.png' % nlr_protein.id)\n",
    "#     plt.savefig(entropy_plot_path)    \n",
    "    \n",
    "def get_multiple_alignment(nlr_protein):\n",
    "    print('exonerating protein', nlr_protein.id, '...')\n",
    "    numExonerated, numGenomes = exonerate(nlr_protein)\n",
    "    print(numExonerated, 'genomes out of', numGenomes, 'total contain an ortholog of protein', nlr_protein)\n",
    "    \n",
    "    p2gaa_path = make_path('exonerate_p2gaa', genus, 'p2gaa_%s.faa' % nlr_protein.id)\n",
    "    clustalo_out_path = make_path('clustalo_out', genus, 'clustalo_%s.out' % nlr_protein.id)\n",
    "    !clustalo -i $p2gaa_path -o $clustalo_out_path\n",
    "    \n",
    "def save_entropy(nlr_protein):\n",
    "    clustalo_out_path = make_path('clustalo_out', genus, 'clustalo_%s.out' % nlr_protein.id)\n",
    "    entropies = get_entropy_sequence(AlignIO.read(clustalo_out_path, \"fasta\"))\n",
    "    entropy_seq_path = make_path('entropy', genus, 'seq', 'entropy_clustalo_%s.npy' % nlr_protein.id)    \n",
    "    np.save(entropy_seq_path, entropies)\n",
    "    entropy_plot_path = make_path('entropy', genus, 'plot', 'entropy_clustalo_%s.png' % nlr_protein.id)\n",
    "    plot_entropy(entropies, nlr_protein.id)\n",
    "    plt.savefig(entropy_plot_path)\n",
    "    plt.close()\n",
    "\n",
    "def main(nlr_protein):\n",
    "    get_multiple_alignment(nlr_protein)\n",
    "    save_entropy(nlr_protein)\n",
    "    \n",
    "def loop_over_hits(hits):\n",
    "    for nlr_protein in hits:\n",
    "        main(nlr_protein)\n",
    "        print('completed pipeline on protein', nlr_protein.id)\n",
    "    \n"
   ]
  },
  {
   "cell_type": "code",
   "execution_count": 95,
   "metadata": {},
   "outputs": [
    {
     "name": "stdout",
     "output_type": "stream",
     "text": [
      "exonerating protein XP_011393650.1 ...\n",
      "1 sequences exonerated\n",
      "2 sequences exonerated\n",
      "3 sequences exonerated\n",
      "4 sequences exonerated\n",
      "5 sequences exonerated\n",
      "6 sequences exonerated\n",
      "6 genomes out of 6 total contain an ortholog of protein ID: XP_011393650.1\n",
      "Name: XP_011393650.1\n",
      "Description: XP_011393650.1 uncharacterized protein NCU09760 [Neurospora crassa OR74A]\n",
      "Number of features: 0\n",
      "Seq('MPQAQRPDGFTRALAKFKQGLDPSLAQQFSISTLEDVRVLADKIQHEQGPQGKL...DLS')\n",
      "FATAL: Cowardly refusing to overwrite already existing file 'clustalo_out/neurospora/clustalo_XP_011393650.1.out'. Use --force to force overwriting.\n"
     ]
    }
   ],
   "source": [
    "# use the main function to exonerate a protein against the genomes,\n",
    "# compute multiple alignment, and save entropy plots\n",
    "# also try loop_over_hits(hit_sequences) to run the pipeline on\n",
    "# a list hit sequences found by hmmer\n",
    "\n",
    "main(hit_sequences[3])"
   ]
  },
  {
   "cell_type": "code",
   "execution_count": null,
   "metadata": {},
   "outputs": [],
   "source": [
    "for nlr_protein in hit_sequences:\n",
    "    save_entropy(nlr_protein)\n",
    "    print('saved entropy on protein', nlr_protein.id)"
   ]
  },
  {
   "cell_type": "code",
   "execution_count": 14,
   "metadata": {},
   "outputs": [
    {
     "data": {
      "text/plain": [
       "Text(0.5, 1.0, 'Entropy plot for XP_003712653.1')"
      ]
     },
     "execution_count": 14,
     "metadata": {},
     "output_type": "execute_result"
    },
    {
     "data": {
      "image/png": "[encoded data removed]",
      "text/plain": [
       "<Figure size 432x288 with 1 Axes>"
      ]
     },
     "metadata": {
      "needs_background": "light"
     },
     "output_type": "display_data"
    }
   ],
   "source": [
    "import matplotlib.pyplot as plt\n",
    "import numpy as np\n",
    "\n",
    "entropies = np.load('entropy/magnaporthe/seq/entropy_clustalo_XP_003711083.1.npy')\n",
    "\n",
    "plt.plot(entropies[934:1125])\n",
    "plt.xlabel('Amino acid position')\n",
    "plt.ylabel('Bits')\n",
    "plt.ylim(0, 2)\n",
    "plt.title('Entropy plot for %s' % 'XP_003712653.1')"
   ]
  },
  {
   "cell_type": "code",
   "execution_count": null,
   "metadata": {},
   "outputs": [],
   "source": []
  }
 ],
 "metadata": {
  "kernelspec": {
   "display_name": "Python 3",
   "language": "python",
   "name": "python3"
  },
  "language_info": {
   "codemirror_mode": {
    "name": "ipython",
    "version": 3
   },
   "file_extension": ".py",
   "mimetype": "text/x-python",
   "name": "python",
   "nbconvert_exporter": "python",
   "pygments_lexer": "ipython3",
   "version": "3.8.3"
  }
 },
 "nbformat": 4,
 "nbformat_minor": 4
}
