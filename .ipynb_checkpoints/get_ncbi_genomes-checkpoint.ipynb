{
 "cells": [
  {
   "cell_type": "code",
   "execution_count": 1,
   "metadata": {},
   "outputs": [],
   "source": [
    "from Bio import Entrez\n",
    "\n",
    "from io import StringIO\n",
    "\n",
    "import os\n",
    "from os import path\n",
    "from os.path import isfile, join, dirname, isdir\n",
    "\n",
    "import urllib"
   ]
  },
  {
   "cell_type": "code",
   "execution_count": 2,
   "metadata": {},
   "outputs": [],
   "source": [
    "#helper function for preparing directories. do not change this.\n",
    "\n",
    "def make_dir(*argv):\n",
    "    mydir = path.join(*argv)\n",
    "    if not path.exists(mydir):\n",
    "        os.mkdir(mydir)\n",
    "    return mydir\n"
   ]
  },
  {
   "cell_type": "code",
   "execution_count": 11,
   "metadata": {},
   "outputs": [],
   "source": [
    "#You can change the search query for the NCBI assembly database\n",
    "\n",
    "ncbi_search_term = \"magnaporthe oryzae[orgn]\" #change this\n",
    "genus = ncbi_search_term.split(' ')[0] #e.g. 'magnaporthe'"
   ]
  },
  {
   "cell_type": "code",
   "execution_count": 12,
   "metadata": {},
   "outputs": [],
   "source": [
    "#search for assemblies\n",
    "Entrez.email = \"boxu@berkeley.edu\"\n",
    "handle = Entrez.esearch(db=\"assembly\", retmax=300, term=ncbi_search_term, sort='significance', report='full')\n",
    "record = Entrez.read(handle)"
   ]
  },
  {
   "cell_type": "code",
   "execution_count": 13,
   "metadata": {},
   "outputs": [
    {
     "name": "stdout",
     "output_type": "stream",
     "text": [
      "['388878', '7050461', '2344491', '2561261', '2958', '280088', '8864911', '8631421', '8864891', '8631411', '6469541', '8864981', '8631401', '8864941', '2193431', '1795381', '8631441', '8864971', '8631371', '8865001', '8631381', '8864901', '8631391', '6469551', '5481461', '6902891', '6469561', '6469531', '5481451', '2193401', '1814071', '5481471', '2193451', '1795361', '8864921', '8631431', '2193391', '1789051', '2193441', '1795371', '1232641', '8864931', '8631451', '2193411', '1789091', '1232651', '2193421', '1789081', '5481441', '2193461', '1789061', '6902881', '1152771', '67731', '1649761', '81051', '1649751', '1649781', '1152841', '1152821', '1152801', '1649771', '1650321', '1650601', '1649801', '1650181', '1650591', '1650641', '1650621', '1558631', '1649811', '1650211', '1650191', '1650371', '1650711', '1650681', '236561', '1650381', '1650391', '1650341', '1650091', '1650331', '1650201', '1152831', '1650171', '1650761', '1232751', '1650361', '1650251', '1650561', '1650281', '1649831', '1232821', '1650031', '1650131', '1650461', '1650351', '1650451', '8632371', '1650301', '635831', '1650531', '1649791', '1558761', '1650571', '1650541', '635851', '1650481', '1650311', '1649991', '8632281', '1650261', '1650501', '1650471', '1650151', '1650101', '1650551', '1650271', '1650411', '1650491', '1152811', '1078261', '1649841', '1650051', '1649921', '1650401', '1650121', '1649971', '1650081', '1649821', '1649861', '1650041', '1649911', '1650061', '1650291', '1650511', '1649961', '1649901', '8632251', '8632221', '1649851', '1650231', '8632171', '1650071', '1559051', '1649951', '1650161', '1649871', '1649941', '1650001', '1649981', '1649931', '1649881', '7040131', '1650521', '6902931', '1650441', '635791', '8632381', '1650021', '522088', '8632181', '635801', '1650431', '8632161', '1650111', '1650011', '8632261', '8632581', '8632141', '8632151', '1559181', '8632231', '1559161', '1558931', '1558721', '1558861', '8632201', '914371', '1650241', '8632291', '1559111', '8865201', '8865211', '1650421', '1558781', '1558901', '8632131', '8632591', '8632301', '1558891', '2192841', '8632121', '1558831', '1650141', '1558951', '522098', '8865101', '1558771', '859571', '7362761', '1558841', '8865081', '763021', '1558871', '1558981', '7063471', '1558921', '8865061', '1559071', '8865091', '1559081', '1558701', '8865071', '6902911', '1559011', '1558811', '7362741', '1558711', '6902921', '1559031', '7063791', '1559091', '1559191', '1559221', '1558671', '7362771', '1559131', '1558741', '763031', '1559211', '7064281', '149391', '7063741', '1558991', '7063761', '1558801', '7362751', '7063491', '1558971', '2193161', '6885761', '1152781', '8632271', '8632341', '8632331', '8865021', '8632081', '8865221', '8865191', '8632061', '8865171', '8632361', '8632091', '8632351', '8865011', '943851', '8632561', '200391', '8632041', '8865161', '7063771', '200451', '8632111', '249951', '8632241', '200511', '200501', '200401', '8865111', '200471', '8865181', '8632071', '320871', '943681', '1641901', '8632101', '763001', '8632321', '6822711', '200521', '8865121', '8632571', '8632051', '6822781', '200461', '200651', '200631', '1020721', '200681', '200711', '200541', '200551', '200671', '200491', '1558661', '762991', '200571', '200411', '200441']\n"
     ]
    }
   ],
   "source": [
    "print(record['IdList'])"
   ]
  },
  {
   "cell_type": "code",
   "execution_count": null,
   "metadata": {
    "jupyter": {
     "outputs_hidden": true
    }
   },
   "outputs": [],
   "source": [
    "#loop to download genomes. might take awhile\n",
    "\n",
    "downloaded = []\n",
    "yet_to_download = list(record['IdList'])\n",
    "\n",
    "genomes_dir = make_dir('genomes', genus)\n",
    "\n",
    "for uid in list(yet_to_download):\n",
    "    handle = Entrez.esummary(db=\"assembly\", id=uid, report='full')\n",
    "    summary = Entrez.read(handle)\n",
    "    url = summary['DocumentSummarySet']['DocumentSummary'][0]['FtpPath_GenBank']\n",
    "    if url =='':\n",
    "        print('no Genbank ftp for uid ', uid)\n",
    "        url = summary['DocumentSummarySet']['DocumentSummary'][0]['FtpPath_RefSeq']\n",
    "        if url =='':\n",
    "            print('no refseq ftp for uid', uid, \"... skipping\")\n",
    "            print('skipping')\n",
    "            continue        \n",
    "    label = os.path.basename(url)\n",
    "    link = join(url,label+'_genomic.fna.gz')\n",
    "    urllib.request.urlretrieve(link, join(genomes_dir, f'{label}.fna.gz'))\n",
    "    downloaded.append(uid)\n",
    "    yet_to_download.remove(uid)\n",
    "\n",
    "#unzip all downloaded genomes\n",
    "!gunzip $genomes_dir/*"
   ]
  },
  {
   "cell_type": "code",
   "execution_count": 71,
   "metadata": {},
   "outputs": [],
   "source": [
    "##get reference proteome\n",
    "\n",
    "proteomes_dir = make_dir('proteomes/', genus)\n",
    "\n",
    "Entrez.email = \"boxu@berkeley.edu\"\n",
    "handle = Entrez.esearch(db=\"genome\", retmax=10, term=ncbi_search_term, sort='significance', report='full')\n",
    "record = Entrez.read(handle)\n",
    "\n",
    "handle = Entrez.esummary(db=\"genome\", id=record['IdList'][0], report='full')\n",
    "summary = Entrez.read(handle)\n",
    "\n",
    "handle = Entrez.esummary(db=\"assembly\", id=summary[0]['AssemblyID'], report='full')\n",
    "summary = Entrez.read(handle)\n",
    "\n",
    "url = summary['DocumentSummarySet']['DocumentSummary'][0]['FtpPath_RefSeq']\n",
    "\n",
    "label = os.path.basename(url)\n",
    "link = join(url,label+'_protein.faa.gz')\n",
    "urllib.request.urlretrieve(link, join(proteomes_dir, f'{label}_protein.faa.gz'))\n",
    "\n",
    "!gunzip $proteomes_dir/*"
   ]
  }
 ],
 "metadata": {
  "kernelspec": {
   "display_name": "Python 3",
   "language": "python",
   "name": "python3"
  },
  "language_info": {
   "codemirror_mode": {
    "name": "ipython",
    "version": 3
   },
   "file_extension": ".py",
   "mimetype": "text/x-python",
   "name": "python",
   "nbconvert_exporter": "python",
   "pygments_lexer": "ipython3",
   "version": "3.8.3"
  }
 },
 "nbformat": 4,
 "nbformat_minor": 4
}
